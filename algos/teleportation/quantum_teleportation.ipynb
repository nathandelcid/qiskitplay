{
 "cells": [
  {
   "cell_type": "markdown",
   "id": "02ad82fe",
   "metadata": {},
   "source": [
    "# Quantum Teleportation"
   ]
  },
  {
   "cell_type": "markdown",
   "id": "4ba80392",
   "metadata": {},
   "source": [
    "## Quantum Teleportation\n",
    "\n",
    "### Problem Setup\n",
    "\n",
    "Lets begin with three characters\n",
    "- **Alice:** Has an unknown quantum state $\\ket{\\psi}$\n",
    "- **Bob:** Is far away, shares EPR pair with Alice\n",
    "    - First, they created an entangled state $\\ket{\\Phi^{+}}$ while together\n",
    "    - Then they seperated physically\n",
    "- **Charlie:** Gives Alice the state $\\ket{\\psi} = \\alpha\\ket{0} + \\beta \\ket{1}$\n",
    "\n",
    "**Task:** Alice would like to send $\\ket{\\psi}$ to Bob\n",
    "**Concerns:**\n",
    "- Alice cannot know the state herself because she would collapse the state upon observation\n",
    "    - The phase information (relative amplitudes $\\alpha, \\beta$ would be lost)\n",
    "    - Even if she did, she couldn't describe it to Bob via classical means because it would be an infinite amount of information\n",
    "\n",
    "### Key Resource: Entanglement\n",
    "\n",
    "Before Charlie arrives, Alice and Bob meet in person and create a **Bell pair**\n",
    "- Alice takes the first qubit, Bob takes the second\n",
    "\n",
    "$$\\ket{\\phi^{+}} = \\frac{1}{\\sqrt{2}}(\\ket{00} + \\ket{11})$$\n",
    "\n",
    "Then charlie gives Alice the qubit $\\ket{\\psi} = \\alpha \\ket{0} + \\beta \\ket{1}$, creating:\n",
    "\n",
    "$$\\ket{\\psi_{\\text{total}}} = \\frac{1}{\\sqrt{2}} (\\alpha \\ket{000} + \\alpha \\ket{011} + \\beta \\ket{100} + \\beta \\ket{111})$$"
   ]
  },
  {
   "cell_type": "markdown",
   "id": "da0b1bbb",
   "metadata": {},
   "source": [
    "## Outline\n",
    "\n",
    "- $q_0$: The unknown state to be teleported ($\\ket{\\omega} = \\alpha \\ket{0} + \\beta \\ket{1}$)\n",
    "- $q_1$: Alices half of the shared EPR pair\n",
    "- $q_2$: Bobs half of the shared EPR pair\n",
    "\n",
    "**Shared Bell Pair:** $\\ket{\\phi^+}_{12} = \\frac{1}{\\sqrt{2}}(\\ket{00}_{12} + \\ket{11}_{12})$\n",
    "\n",
    "### 1. Combine Alice's message qubit\n",
    "\n",
    "$$\\ket{\\psi_{\\text{total}}} = \\ket{\\omega}_0 \\otimes \\ket{\\psi^+}_{12}$$\n",
    "\n",
    "$$\\ket{\\psi_{\\text{total}}} = (\\alpha \\ket{0}_0 + \\beta \\ket{1}_0) \\otimes \\frac{1}{\\sqrt{2}}(\\ket{00}_{12} + \\ket{11}_{12})$$\n",
    "\n",
    "$$\\Rightarrow \\frac{1}{\\sqrt{2}}(\\alpha \\ket{0}_0 \\otimes \\ket{00}_{12} + \\alpha \\ket{0}_0 \\otimes \\ket{11}_{12} + \\beta \\ket{1}_0 \\otimes \\ket{00}_{12} + \\beta \\ket{1}_0 \\otimes \\ket{11}_{12})$$\n",
    "\n",
    "$$\\ket{\\psi_{\\text{total}}} = \\frac{1}{\\sqrt{2}} (\\alpha \\ket{000} + \\alpha \\ket{011} + \\beta \\ket{100} + \\beta \\ket{111})$$\n",
    "\n",
    "This is our three qubit setup. Now lets look at how Alice communicates Charlie's $\\ket{\\psi}$ state to Bob\n",
    "\n",
    "### 2. Alice interacts $\\ket{\\psi}$ with her half of the EPR pair\n",
    "\n",
    "**Meaning:** Alice uses quantum gates to entangles her message qubit ($q_0$) with her half of the EPR pair ($q_1$)\n",
    "- **Gates:**\n",
    "    1. $\\text{CNOT}(q_0, q_1)$\n",
    "    2. $H(q_0)$\n",
    "\n",
    "1. $\\text{CNOT}(q_0,q_1)$\n",
    "$$\\ket{\\psi_\\text{total}} = \\frac{1}{\\sqrt{2}}(\\alpha \\ket{000} + \\alpha \\ket{011} + \\beta \\ket{110} + \\beta \\ket{101})$$\n",
    "\n",
    "2. $H(q_0)$\n",
    "- $\\ket{0} \\rightarrow \\frac{1}{\\sqrt{2}}(\\ket{0} +\\ket{1})$\n",
    "- $\\ket{1} \\rightarrow \\frac{1}{\\sqrt{2}}(\\ket{0} -\\ket{1})$\n",
    "\n",
    "$$\\left| \\psi_{\\text{total}} \\right \\rangle  =  \\frac{1}{2} \\left( \\left| 0 \\right \\rangle \\left( \\alpha \\left| 00 \\right \\rangle + \\alpha \\left| 11 \\right \\rangle + \\beta \\left| 10 \\right \\rangle + \\beta \\left| 01 \\right \\rangle \\right) + \\left| 1 \\right \\rangle \\left( \\alpha \\left| 00 \\right \\rangle + \\alpha \\left| 11 \\right \\rangle - \\beta \\left| 10 \\right \\rangle - \\beta \\left| 01 \\right \\rangle \\right) \\right)$$\n",
    "\n",
    "**Intuition:** Imagine the state we are trying to communicate ($\\ket{\\omega}$) as a delicate pattern of colors on a sheet of glass\n",
    "- Alice performing $\\text{CNOT}(q_0, q_1) \\rightarrow H(q_0)$ is like pressing that pattern onto a shared mold\n",
    "- When she measures, she breaks her copy of the mold, but the imprint of that pattern survives in the shared correlations with Bob's qubit\n",
    "- The other half of the mold are like instructions telling Bob how to rotate his sheet of glass to recreate the original pattern\n",
    "\n",
    "**THINK:** This step is **encoding** the message into the entangled state for Bob to reproduce"
   ]
  },
  {
   "cell_type": "markdown",
   "id": "b8c88fd1",
   "metadata": {},
   "source": [
    "### 3. Alice measures her half of the EPR pair and $\\omega$ (Charlie's message) in the EPR basis\n",
    "\n",
    "In our entangled 3-qubit state, $q_0, q_1$ belong to Alice, and $q_2$ belongs to Bob\n",
    "\n",
    "$$\\left| \\psi_{\\text{total}} \\right \\rangle  =  \\frac{1}{2} \\left( \\left| 0 \\right \\rangle \\left( \\alpha \\left| 00 \\right \\rangle + \\alpha \\left| 11 \\right \\rangle + \\beta \\left| 10 \\right \\rangle + \\beta \\left| 01 \\right \\rangle \\right) + \\left| 1 \\right \\rangle \\left( \\alpha \\left| 00 \\right \\rangle + \\alpha \\left| 11 \\right \\rangle - \\beta \\left| 10 \\right \\rangle - \\beta \\left| 01 \\right \\rangle \\right) \\right)$$\n",
    "\n",
    "\n",
    "When Alice measures:\n",
    "1. Her two qubit system collapses into one of the four Bell States\n",
    "3. The entire 3-qubit system consequently collapses, which means Bob's qubit takes on the \"corrupted\" version of $\\ket{\\omega}$\n",
    "\n",
    "*\"Quantum Handshake\"*\n",
    "- Alice's measurement destroys her copy of $\\ket {\\omega}$ (gone from her side)\n",
    "- The act of measuring collapses Bob's qubit into a state that *does* contain $\\ket{\\omega}$, though it may be bit flipped or phase flipped\n",
    "- Bob then runs a simple correction to obtain the exact $\\ket{\\omega}$"
   ]
  }
 ],
 "metadata": {
  "kernelspec": {
   "display_name": "qk",
   "language": "python",
   "name": "python3"
  },
  "language_info": {
   "codemirror_mode": {
    "name": "ipython",
    "version": 3
   },
   "file_extension": ".py",
   "mimetype": "text/x-python",
   "name": "python",
   "nbconvert_exporter": "python",
   "pygments_lexer": "ipython3",
   "version": "3.13.5"
  }
 },
 "nbformat": 4,
 "nbformat_minor": 5
}
