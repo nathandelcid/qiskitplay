{
 "cells": [
  {
   "cell_type": "markdown",
   "id": "42ce1a0d",
   "metadata": {},
   "source": [
    "## Measurements\n",
    "\n",
    "In quantum mechanics **measurement** means observing a quantum state and forcing it to \"collapse\" into one of a set of classical outcomes\n",
    "\n",
    "$$\\ket{\\psi} = \\alpha \\ket{0} + \\beta \\ket{1}$$\n",
    "\n",
    "- Outcome 0 with probability $|\\alpha|^2$\n",
    "- Outcome 1 with probability $|\\beta|^2$\n",
    "\n",
    "### $Z$-basis (Computational Basis)\n",
    "\n",
    "$$Z\\ket{0} = \\ket{0} \\\\ Z\\ket{1} = -\\ket{1}$$\n",
    "\n",
    "### Measurement in Different Basis\n",
    "\n",
    "You are able to measure in the **orthonormal** basis as well, but the approach is slightly different\n",
    "\n",
    "<div style=\"text-align: center;\">\n",
    "<img src= \"./imgs/bloch.png\" width = \"400\">\n",
    "</div>\n",
    "\n",
    "**$X$-basis States**\n",
    "\n",
    "$$|+\\rangle = \\frac{1}{\\sqrt{2}}(|0\\rangle + |1\\rangle), \\quad |-\\rangle = \\frac{1}{\\sqrt{2}}(|0\\rangle - |1\\rangle) \\\\ \\text{Am I pointing along}\\;+x (\\ket{+})\\;\\text{or}\\; -x (\\ket{-})$$\n",
    "\n",
    "\n",
    "\n",
    "\n",
    "### Measurement by Transformations\n",
    "\n",
    "Any measurement in a different basis can be converted into a measurement in the $Z$-basis by applying a suitable unitary transformation first\n",
    "\n",
    "- To measure in $X$, Apply $H$ then measure in $Z$\n",
    "    - $HZH = X$\n",
    "\n",
    "### Bell States\n",
    "\n",
    "Given a state $\\ket{\\psi}$, what is the probability of collapsing into state $\\ket{\\phi}$?\n",
    "- **Short Answer:** $\\frac{1}{2}$ (Born Rule)\n",
    "\n",
    "**Entanglement Reminder:** Two qubits are entangled if their state cannot be written as a simple tensor product\n",
    "- $\\ket{\\psi_{AB}} \\ne \\ket{\\psi}_A \\otimes \\ket{\\psi}_B$\n",
    "- Entangles qubits are correlated, measuring one instantly determines the state of the other\n",
    "\n",
    "There are four maximally entangled two-qubit states known as **Bell States** or **EPR pairs (Einstein-Podolsky-Rosen)**\n",
    "\n",
    "\\begin{aligned}\n",
    "|\\Phi^+\\rangle &= \\frac{1}{\\sqrt{2}}(|00\\rangle + |11\\rangle) \\\\\n",
    "|\\Phi^-\\rangle &= \\frac{1}{\\sqrt{2}}(|00\\rangle - |11\\rangle) \\\\\n",
    "|\\Psi^+\\rangle &= \\frac{1}{\\sqrt{2}}(|01\\rangle + |10\\rangle) \\\\\n",
    "|\\Psi^-\\rangle &= \\frac{1}{\\sqrt{2}}(|01\\rangle - |10\\rangle)\n",
    "\\end{aligned}\n",
    "\n",
    "- $\\ket{\\psi}$: **Anticorrelated Bits**\n",
    "- $\\ket{\\phi}$: **Correlated Bits**"
   ]
  },
  {
   "cell_type": "markdown",
   "id": "2c5dcf08",
   "metadata": {},
   "source": [
    "## Quantum Algorithms\n",
    "\n",
    "Recall that an algorithm is simply a finite set of sequence steps\n",
    "- In **classical computing**, these steps are logical operations on bits\n",
    "- In **quantum computing**, these steps are unitary transformations (reversable operations) on qubits\n",
    "\n",
    "A QAlgo is an algorithm that utilizes properties of superposition and/or entanglement\n",
    "\n",
    "| Type of Problem                              | Classical Time | Quantum Time  | Example                     |\n",
    "| -------------------------------------------- | -------------- | ------------- | --------------------------- |\n",
    "| Factoring large integers                     | Exponential    | Polynomial    | **Shor’s Algorithm**        |\n",
    "| Searching an unsorted list                   | $O(N)$         | $O(\\sqrt{N})$ | **Grover’s Algorithm**      |\n",
    "| Checking if function is balanced or constant | $O(2^n)$       | $O(1)$       | **Deutsch–Jozsa Algorithm** |"
   ]
  },
  {
   "cell_type": "markdown",
   "id": "858df194",
   "metadata": {},
   "source": []
  }
 ],
 "metadata": {
  "language_info": {
   "name": "python"
  }
 },
 "nbformat": 4,
 "nbformat_minor": 5
}
