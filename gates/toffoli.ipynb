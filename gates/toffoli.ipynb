{
 "cells": [
  {
   "cell_type": "code",
   "execution_count": 1,
   "id": "21eb861d",
   "metadata": {},
   "outputs": [],
   "source": [
    "from qiskit import QuantumCircuit\n",
    "from qiskit_aer import AerSimulator\n",
    "from qiskit_ibm_runtime import SamplerV2 as Sampler"
   ]
  },
  {
   "cell_type": "markdown",
   "id": "a050a40a",
   "metadata": {},
   "source": [
    "# Toffoli Gate\n",
    "\n",
    "<div style=\"text-align: center;\">\n",
    "<img src=\"imgs/1.png\" width=\"400\">\n",
    "</div>\n",
    "\n",
    "## Think Classical AND\n",
    "\n",
    "Let's say we have two qubits:\n",
    "- $q_a = \\ket{0}$ (input $a$)\n",
    "- $q_b = \\ket{0}$ (input $b$)\n",
    "\n",
    "If we want to perform an exclusive OR operation using a quantum circuit ($a \\oplus b$), we would apply $\\text{CNOT}(a, b)$.\n",
    "\n",
    "<div style=\"text-align: center;\">\n",
    "<img src=\"imgs/2.png\" width=\"400\">\n",
    "</div>\n",
    "\n",
    "- That is, if $a = \\ket{0}$, then we flip the state of $b$; otherwise, no operation is performed.\n",
    "\n",
    "Let's consider a **2-qubit system** ($q_a, q_b$), where $q_b$ represents the sum.\n",
    "\n",
    "**XOR Truth Table:**\n",
    "| $a$ | $b$ | Sum |\n",
    "|-----|-----|-----|\n",
    "| 0   | 0   | 0   |\n",
    "| 0   | 1   | 1   |\n",
    "| 1   | 0   | 1   |\n",
    "| 1   | 1   | 0   |"
   ]
  },
  {
   "cell_type": "code",
   "execution_count": 6,
   "id": "744984dd",
   "metadata": {},
   "outputs": [
    {
     "name": "stdout",
     "output_type": "stream",
     "text": [
      "Input: a=0, b=0\n",
      "Results: {'00': 1024}\n",
      "----------------------------------------\n",
      "Input: a=0, b=1\n",
      "Results: {'10': 1024}\n",
      "----------------------------------------\n",
      "Input: a=1, b=0\n",
      "Results: {'11': 1024}\n",
      "----------------------------------------\n",
      "Input: a=1, b=1\n",
      "Results: {'01': 1024}\n",
      "----------------------------------------\n"
     ]
    }
   ],
   "source": [
    "# Test all possible bit value pairs\n",
    "bit_pairs = [(0, 0), (0, 1), (1, 0), (1, 1)]\n",
    "\n",
    "for a_val, b_val in bit_pairs:\n",
    "    qc = QuantumCircuit(2)\n",
    "    a, b, = 0, 1\n",
    "    \n",
    "    # Initialize input qubits based on classical values\n",
    "    if a_val == 1:\n",
    "        qc.x(a)\n",
    "    if b_val == 1:\n",
    "        qc.x(b)\n",
    "    \n",
    "    # Apply CNOT gate (XOR operation)\n",
    "    qc.cx(a, b)\n",
    "    \n",
    "    # Measure all qubits\n",
    "    qc.measure_all()\n",
    "    \n",
    "    # Simulate the circuit\n",
    "    ideal_simulator = AerSimulator()\n",
    "    sampler = Sampler(mode=ideal_simulator)\n",
    "    \n",
    "    job = sampler.run([qc], shots=1024)\n",
    "    count_ideal = job.result()[0].data.meas.get_counts()\n",
    "    \n",
    "    print(f\"Input: a={a_val}, b={b_val}\")\n",
    "    print(f\"Results: {count_ideal}\")\n",
    "    print(\"-\" * 40)\n",
    "\n",
    "# REMEMBER: THE MEASUREMENT BITSTRING IS LITTLE-ENDIAN (LSB FIRST)"
   ]
  },
  {
   "cell_type": "markdown",
   "id": "09671951",
   "metadata": {},
   "source": [
    "The **Toffoli** gate takes this a step further by having two control qubits, such that we are ultimately performing $a \\land b$ (logical AND).\n",
    "\n",
    "**AND Truth Table:**\n",
    "| $a$ | $b$ | Sum | Carry |\n",
    "|-----|-----|-----|-------|\n",
    "| 0   | 0   | 0   | 0     |\n",
    "| 0   | 1   | 1   | 0     |\n",
    "| 1   | 0   | 1   | 0     |\n",
    "| 1   | 1   | 0   | 1     |\n",
    "\n",
    "So let us now consider a **3-qubit system** ($q_a, q_b, q_{\\text{carry}}$), where:\n",
    "- $q_b = \\text{sum}$\n",
    "- $q_{\\text{carry}} = \\text{carry}$"
   ]
  },
  {
   "cell_type": "code",
   "execution_count": 7,
   "id": "426fc3f0",
   "metadata": {},
   "outputs": [
    {
     "name": "stdout",
     "output_type": "stream",
     "text": [
      "Input: a=0, b=0\n",
      "Results: {'000': 1024}\n",
      "----------------------------------------\n",
      "Input: a=0, b=1\n",
      "Results: {'010': 1024}\n",
      "----------------------------------------\n",
      "Input: a=1, b=0\n",
      "Results: {'011': 1024}\n",
      "----------------------------------------\n",
      "Input: a=1, b=1\n",
      "Results: {'101': 1024}\n",
      "----------------------------------------\n"
     ]
    }
   ],
   "source": [
    "# Test all possible bit value pairs\n",
    "bit_pairs = [(0, 0), (0, 1), (1, 0), (1, 1)]\n",
    "\n",
    "for a_val, b_val in bit_pairs:\n",
    "    qc = QuantumCircuit(3)\n",
    "    a, b, carry = 0, 1, 2\n",
    "    \n",
    "    # Initialize input qubits based on classical values\n",
    "    if a_val == 1:\n",
    "        qc.x(a)\n",
    "    if b_val == 1:\n",
    "        qc.x(b)\n",
    "\n",
    "    # a AND b\n",
    "    qc.ccx(a, b, carry)\n",
    "    \n",
    "    # Apply CNOT gate (XOR operation)\n",
    "    qc.cx(a, b)\n",
    "    \n",
    "    # Measure all qubits\n",
    "    qc.measure_all()\n",
    "    \n",
    "    # Simulate the circuit\n",
    "    ideal_simulator = AerSimulator()\n",
    "    sampler = Sampler(mode=ideal_simulator)\n",
    "    \n",
    "    job = sampler.run([qc], shots=1024)\n",
    "    count_ideal = job.result()[0].data.meas.get_counts()\n",
    "    \n",
    "    print(f\"Input: a={a_val}, b={b_val}\")\n",
    "    print(f\"Results: {count_ideal}\")\n",
    "    print(\"-\" * 40)\n",
    "\n",
    "# REMEMBER: THE MEASUREMENT BITSTRING IS LITTLE-ENDIAN (LSB FIRST)"
   ]
  }
 ],
 "metadata": {
  "kernelspec": {
   "display_name": "qk",
   "language": "python",
   "name": "python3"
  },
  "language_info": {
   "codemirror_mode": {
    "name": "ipython",
    "version": 3
   },
   "file_extension": ".py",
   "mimetype": "text/x-python",
   "name": "python",
   "nbconvert_exporter": "python",
   "pygments_lexer": "ipython3",
   "version": "3.13.5"
  }
 },
 "nbformat": 4,
 "nbformat_minor": 5
}
